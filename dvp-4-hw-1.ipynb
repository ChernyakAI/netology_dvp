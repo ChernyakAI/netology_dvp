{
 "cells": [
  {
   "cell_type": "code",
   "execution_count": 1,
   "metadata": {},
   "outputs": [],
   "source": [
    "import numpy as np\n",
    "import pandas as pd\n",
    "\n",
    "from sklearn.linear_model import LinearRegression"
   ]
  },
  {
   "cell_type": "markdown",
   "metadata": {},
   "source": [
    "##### Пусть есть 1000 городов с бредовыми данными по населению, коэффициенту рождаемости и др."
   ]
  },
  {
   "cell_type": "code",
   "execution_count": 101,
   "metadata": {},
   "outputs": [
    {
     "data": {
      "text/html": [
       "<div>\n",
       "<style scoped>\n",
       "    .dataframe tbody tr th:only-of-type {\n",
       "        vertical-align: middle;\n",
       "    }\n",
       "\n",
       "    .dataframe tbody tr th {\n",
       "        vertical-align: top;\n",
       "    }\n",
       "\n",
       "    .dataframe thead th {\n",
       "        text-align: right;\n",
       "    }\n",
       "</style>\n",
       "<table border=\"1\" class=\"dataframe\">\n",
       "  <thead>\n",
       "    <tr style=\"text-align: right;\">\n",
       "      <th></th>\n",
       "      <th>fertility</th>\n",
       "      <th>population</th>\n",
       "      <th>plus</th>\n",
       "      <th>minus</th>\n",
       "      <th>number_of_kindergartens</th>\n",
       "      <th>number_of_schools</th>\n",
       "      <th>future</th>\n",
       "    </tr>\n",
       "  </thead>\n",
       "  <tbody>\n",
       "    <tr>\n",
       "      <th>0</th>\n",
       "      <td>23.881881</td>\n",
       "      <td>32371</td>\n",
       "      <td>1333</td>\n",
       "      <td>1862</td>\n",
       "      <td>65</td>\n",
       "      <td>768</td>\n",
       "      <td>32615.0</td>\n",
       "    </tr>\n",
       "    <tr>\n",
       "      <th>1</th>\n",
       "      <td>18.274839</td>\n",
       "      <td>416997</td>\n",
       "      <td>8693</td>\n",
       "      <td>5263</td>\n",
       "      <td>629</td>\n",
       "      <td>669</td>\n",
       "      <td>428048.0</td>\n",
       "    </tr>\n",
       "    <tr>\n",
       "      <th>2</th>\n",
       "      <td>22.795141</td>\n",
       "      <td>133259</td>\n",
       "      <td>3037</td>\n",
       "      <td>8478</td>\n",
       "      <td>346</td>\n",
       "      <td>446</td>\n",
       "      <td>130856.0</td>\n",
       "    </tr>\n",
       "    <tr>\n",
       "      <th>3</th>\n",
       "      <td>20.712184</td>\n",
       "      <td>945185</td>\n",
       "      <td>7988</td>\n",
       "      <td>9726</td>\n",
       "      <td>99</td>\n",
       "      <td>881</td>\n",
       "      <td>963024.0</td>\n",
       "    </tr>\n",
       "    <tr>\n",
       "      <th>4</th>\n",
       "      <td>19.715605</td>\n",
       "      <td>560822</td>\n",
       "      <td>4962</td>\n",
       "      <td>3305</td>\n",
       "      <td>455</td>\n",
       "      <td>111</td>\n",
       "      <td>573536.0</td>\n",
       "    </tr>\n",
       "  </tbody>\n",
       "</table>\n",
       "</div>"
      ],
      "text/plain": [
       "   fertility  population  plus  minus  number_of_kindergartens  \\\n",
       "0  23.881881       32371  1333   1862                       65   \n",
       "1  18.274839      416997  8693   5263                      629   \n",
       "2  22.795141      133259  3037   8478                      346   \n",
       "3  20.712184      945185  7988   9726                       99   \n",
       "4  19.715605      560822  4962   3305                      455   \n",
       "\n",
       "   number_of_schools    future  \n",
       "0                768   32615.0  \n",
       "1                669  428048.0  \n",
       "2                446  130856.0  \n",
       "3                881  963024.0  \n",
       "4                111  573536.0  "
      ]
     },
     "execution_count": 101,
     "metadata": {},
     "output_type": "execute_result"
    }
   ],
   "source": [
    "# количество населенных пунктов\n",
    "n_towns = 1000\n",
    "# коэффициент рождаемости и население\n",
    "fertility = np.random.choice(20, n_towns) + 8 + np.random.uniform(low=0, high=1, size=n_towns)\n",
    "population = np.random.choice(1000000, n_towns) + 1000\n",
    "# количество понаехавших\n",
    "plus = np.random.choice(10000, n_towns) + 0\n",
    "# количество убывших (умерло или уехало)\n",
    "minus = np.random.choice(10000, n_towns) + 0\n",
    "# мусорные признаки\n",
    "number_of_kindergartens = np.random.choice(1000, n_towns) + 1\n",
    "number_of_schools = np.random.choice(1000, n_towns) + 1\n",
    "# пусть нужно определить население через год\n",
    "future = np.round((fertility / 1000) * population + plus - minus + population)\n",
    "\n",
    "#\n",
    "data = pd.DataFrame({'fertility': fertility,\n",
    "                     'population': population,\n",
    "                     'plus': plus,\n",
    "                     'minus': minus,\n",
    "                     'number_of_kindergartens': number_of_kindergartens,\n",
    "                     'number_of_schools': number_of_schools,\n",
    "                     'future': future\n",
    "                    })\n",
    "data[:5]"
   ]
  },
  {
   "cell_type": "markdown",
   "metadata": {},
   "source": [
    "##### Если обучаем модель по всему df"
   ]
  },
  {
   "cell_type": "code",
   "execution_count": 102,
   "metadata": {
    "scrolled": true
   },
   "outputs": [
    {
     "name": "stdout",
     "output_type": "stream",
     "text": [
      "Weights: [ 5.09373055e+02  1.01787160e+00  1.00803445e+00 -9.95942580e-01\n",
      "  1.80179858e-01 -1.57345803e-02]\n",
      "Bias: -9267.414662253577\n",
      "Error: 1222.2408956182305\n"
     ]
    }
   ],
   "source": [
    "from sklearn.metrics import mean_absolute_error\n",
    "\n",
    "X = data[['fertility','population','plus','minus','number_of_kindergartens','number_of_schools']]\n",
    "y = data['future']\n",
    "reg = LinearRegression().fit(X, y)\n",
    "print('Weights: {}'.format(reg.coef_))\n",
    "print('Bias: {}'.format(reg.intercept_))\n",
    "\n",
    "pred_values = reg.predict(data[['fertility','population','plus','minus','number_of_kindergartens','number_of_schools']])\n",
    "print('Error: {}'.format(mean_absolute_error(pred_values, y)))"
   ]
  },
  {
   "cell_type": "markdown",
   "metadata": {},
   "source": [
    "##### Самый большой вклад в предсказание вносит коэффициент рождаемости, что логично."
   ]
  },
  {
   "cell_type": "markdown",
   "metadata": {},
   "source": [
    "##### Попробуем убрать последние два признака (с наименьшим весом, заведомо мусорные)"
   ]
  },
  {
   "cell_type": "code",
   "execution_count": 105,
   "metadata": {},
   "outputs": [
    {
     "name": "stdout",
     "output_type": "stream",
     "text": [
      "Weights: [508.73698845   1.01787856   1.00784446  -0.99578619]\n",
      "Bias: -9177.81153607869\n",
      "Error: 1220.7225063620583\n"
     ]
    }
   ],
   "source": [
    "from sklearn.metrics import mean_absolute_error\n",
    "\n",
    "X = data[['fertility','population','plus','minus']]\n",
    "y = data['future']\n",
    "reg = LinearRegression().fit(X, y)\n",
    "print('Weights: {}'.format(reg.coef_))\n",
    "print('Bias: {}'.format(reg.intercept_))\n",
    "\n",
    "pred_values = reg.predict(data[['fertility','population','plus','minus']])\n",
    "print('Error: {}'.format(mean_absolute_error(pred_values, y)))"
   ]
  },
  {
   "cell_type": "markdown",
   "metadata": {},
   "source": [
    "##### Ещё попытка, без прибыли-убыли"
   ]
  },
  {
   "cell_type": "code",
   "execution_count": 106,
   "metadata": {},
   "outputs": [
    {
     "name": "stdout",
     "output_type": "stream",
     "text": [
      "Weights: [  1.01825763 512.99746928]\n",
      "Bias: -9311.058742593857\n",
      "Error: 3570.4781452929956\n"
     ]
    }
   ],
   "source": [
    "X = data[['population', 'fertility']]\n",
    "y = data['future']\n",
    "reg = LinearRegression().fit(X, y)\n",
    "print('Weights: {}'.format(reg.coef_))\n",
    "print('Bias: {}'.format(reg.intercept_))\n",
    "\n",
    "pred_values = reg.predict(data[['population', 'fertility']])\n",
    "print('Error: {}'.format(mean_absolute_error(pred_values, y)))"
   ]
  },
  {
   "cell_type": "markdown",
   "metadata": {},
   "source": [
    "##### Стало только хуже. Получается, прибыль и убыль убирать нельзя из обучения, хотя они и используются только для расчёта."
   ]
  }
 ],
 "metadata": {
  "kernelspec": {
   "display_name": "Python 3",
   "language": "python",
   "name": "python3"
  },
  "language_info": {
   "codemirror_mode": {
    "name": "ipython",
    "version": 3
   },
   "file_extension": ".py",
   "mimetype": "text/x-python",
   "name": "python",
   "nbconvert_exporter": "python",
   "pygments_lexer": "ipython3",
   "version": "3.7.3"
  }
 },
 "nbformat": 4,
 "nbformat_minor": 2
}
